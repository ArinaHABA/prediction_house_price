{
 "cells": [
  {
   "cell_type": "code",
   "execution_count": 1,
   "metadata": {},
   "outputs": [],
   "source": [
    "import numpy as np\n",
    "import pandas as pd"
   ]
  },
  {
   "cell_type": "code",
   "execution_count": 2,
   "metadata": {},
   "outputs": [],
   "source": [
    "list_id = [('0', '10000'), ('10001', '60000'),('60001', '120000'),('120001', '200000'),('200001', '300000'),('300001', '381860')]\n",
    "\n",
    "df1 = pd.read_csv(f'../data/geocode_msk/id_from_' + list_id[0][0] + '_to_' + list_id[0][1] + '.csv')\n",
    "df2 = pd.read_csv(f'../data/geocode_msk/id_from_' + list_id[1][0] + '_to_' + list_id[1][1] + '.csv')\n",
    "\n",
    "df = pd.concat([df1, df2])"
   ]
  },
  {
   "cell_type": "code",
   "execution_count": 3,
   "metadata": {},
   "outputs": [],
   "source": [
    "for i in range(2 , len(list_id)):\n",
    "    df_add = pd.read_csv(f'../data/geocode_msk/id_from_' + list_id[i][0] + '_to_' + list_id[i][1] + '.csv')\n",
    "    df = pd.concat([df, df_add])\n",
    "\n",
    "df.reset_index(drop = True, inplace = True)"
   ]
  },
  {
   "cell_type": "code",
   "execution_count": 4,
   "metadata": {},
   "outputs": [
    {
     "name": "stdout",
     "output_type": "stream",
     "text": [
      "(381861, 19)\n"
     ]
    }
   ],
   "source": [
    "df_msk = pd.read_csv(\"../data/interim/msk_2018_2021_clear.csv\")\n",
    "df_msk['district'] = df['district']\n",
    "\n",
    "print(df_msk.shape)"
   ]
  },
  {
   "cell_type": "code",
   "execution_count": 5,
   "metadata": {},
   "outputs": [
    {
     "name": "stdout",
     "output_type": "stream",
     "text": [
      "   Unnamed: 0     price        date      time    geo_lat    geo_lon  \\\n",
      "0           0   4704280  2018-03-04  12:35:25  55.621097  37.431002   \n",
      "1           1   8000000  2018-03-17  06:46:32  55.738876  37.825370   \n",
      "2           2  11500000  2018-04-03  17:40:53  55.798921  37.738090   \n",
      "3           3  10200000  2018-04-07  15:23:20  55.655307  37.614605   \n",
      "4           4  11500000  2018-04-18  21:52:41  55.701330  37.507412   \n",
      "\n",
      "   building_type  level  levels  rooms  area  kitchen_area  object_type  \\\n",
      "0              2      1      25      1  31.7           6.0           11   \n",
      "1              1      5       9      2  45.0           6.0            1   \n",
      "2              1     14      16      3  64.9           8.0            1   \n",
      "3              2      7      14      2  52.8          10.0            1   \n",
      "4              1     14      17      1  42.0          12.0            1   \n",
      "\n",
      "    timestamp    target  year  month  distance_from_centre  \\\n",
      "0  2018-03-04   4704280  2018      3             18.640591   \n",
      "1  2018-03-17   8000000  2018      3             13.095517   \n",
      "2  2018-04-03  11500000  2018      4              9.235395   \n",
      "3  2018-04-07  10200000  2018      4             10.656543   \n",
      "4  2018-04-18  11500000  2018      4              8.879036   \n",
      "\n",
      "               district  \n",
      "0  поселение Московский  \n",
      "1         район Вешняки  \n",
      "2             Черкизово  \n",
      "3        Нагорный район  \n",
      "4         район Раменки  \n"
     ]
    }
   ],
   "source": [
    "print(df_msk.head())"
   ]
  },
  {
   "cell_type": "code",
   "execution_count": 6,
   "metadata": {},
   "outputs": [],
   "source": [
    "# df.to_csv(r'{0}.csv'.format('../../data/geocode_msk/geocode_concat'))\n",
    "# df_msk.to_csv(r'{0}.csv'.format('../../data/processed/msk_2018_2021'))"
   ]
  },
  {
   "cell_type": "code",
   "execution_count": null,
   "metadata": {},
   "outputs": [],
   "source": []
  },
  {
   "cell_type": "code",
   "execution_count": 7,
   "metadata": {},
   "outputs": [],
   "source": [
    "df_msk['district'].value_counts()\n",
    "df_msk['district'].value_counts().to_csv(r'{0}.csv'.format('../data/processed/пидорасы'))"
   ]
  },
  {
   "cell_type": "code",
   "execution_count": 8,
   "metadata": {},
   "outputs": [
    {
     "data": {
      "text/plain": [
       "Unnamed: 0                 0\n",
       "price                      0\n",
       "date                       0\n",
       "time                       0\n",
       "geo_lat                    0\n",
       "geo_lon                    0\n",
       "building_type              0\n",
       "level                      0\n",
       "levels                     0\n",
       "rooms                      0\n",
       "area                       0\n",
       "kitchen_area               0\n",
       "object_type                0\n",
       "timestamp                  0\n",
       "target                     0\n",
       "year                       0\n",
       "month                      0\n",
       "distance_from_centre       0\n",
       "district                2980\n",
       "dtype: int64"
      ]
     },
     "execution_count": 8,
     "metadata": {},
     "output_type": "execute_result"
    }
   ],
   "source": [
    "df_msk.isnull().sum()"
   ]
  },
  {
   "cell_type": "code",
   "execution_count": 9,
   "metadata": {},
   "outputs": [],
   "source": [
    "df_msk.dropna(inplace=True)"
   ]
  },
  {
   "cell_type": "code",
   "execution_count": 10,
   "metadata": {},
   "outputs": [],
   "source": [
    "df_msk.reset_index(drop = True, inplace = True)"
   ]
  },
  {
   "cell_type": "code",
   "execution_count": 11,
   "metadata": {},
   "outputs": [
    {
     "name": "stdout",
     "output_type": "stream",
     "text": [
      "(378881, 19)\n"
     ]
    }
   ],
   "source": [
    "print(df_msk.shape)"
   ]
  },
  {
   "cell_type": "code",
   "execution_count": 12,
   "metadata": {},
   "outputs": [],
   "source": [
    "# df_msk.to_csv(r'{0}.csv'.format('../data/processed/msk_2018_2021'))"
   ]
  }
 ],
 "metadata": {
  "kernelspec": {
   "display_name": "Python 3 (ipykernel)",
   "language": "python",
   "name": "python3"
  },
  "language_info": {
   "codemirror_mode": {
    "name": "ipython",
    "version": 3
   },
   "file_extension": ".py",
   "mimetype": "text/x-python",
   "name": "python",
   "nbconvert_exporter": "python",
   "pygments_lexer": "ipython3",
   "version": "3.11.2"
  }
 },
 "nbformat": 4,
 "nbformat_minor": 2
}
