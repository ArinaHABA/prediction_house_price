{
 "cells": [
  {
   "cell_type": "code",
   "execution_count": 1,
   "metadata": {},
   "outputs": [],
   "source": [
    "import pandas as pd\n",
    "import numpy as np"
   ]
  },
  {
   "cell_type": "code",
   "execution_count": 3,
   "metadata": {},
   "outputs": [
    {
     "name": "stdout",
     "output_type": "stream",
     "text": [
      "/home/lelikovam/dev/price_predict/prediction_house_price\n"
     ]
    }
   ],
   "source": [
    "!pwd"
   ]
  },
  {
   "cell_type": "code",
   "execution_count": 4,
   "metadata": {},
   "outputs": [],
   "source": [
    "data_claster = pd.read_csv('/home/lelikovam/dev/price_predict/prediction_house_price/data/interim/claster_data.csv')\n",
    "data = pd.read_csv('/home/lelikovam/dev/price_predict/prediction_house_price/data/interim/msk_2018_2021_clear.csv')"
   ]
  },
  {
   "cell_type": "code",
   "execution_count": 5,
   "metadata": {},
   "outputs": [
    {
     "data": {
      "text/html": [
       "<div>\n",
       "<style scoped>\n",
       "    .dataframe tbody tr th:only-of-type {\n",
       "        vertical-align: middle;\n",
       "    }\n",
       "\n",
       "    .dataframe tbody tr th {\n",
       "        vertical-align: top;\n",
       "    }\n",
       "\n",
       "    .dataframe thead th {\n",
       "        text-align: right;\n",
       "    }\n",
       "</style>\n",
       "<table border=\"1\" class=\"dataframe\">\n",
       "  <thead>\n",
       "    <tr style=\"text-align: right;\">\n",
       "      <th></th>\n",
       "      <th>Unnamed: 0</th>\n",
       "      <th>rooms</th>\n",
       "      <th>object_type</th>\n",
       "      <th>timestamp</th>\n",
       "      <th>target</th>\n",
       "      <th>year</th>\n",
       "      <th>month</th>\n",
       "    </tr>\n",
       "  </thead>\n",
       "  <tbody>\n",
       "    <tr>\n",
       "      <th>0</th>\n",
       "      <td>0</td>\n",
       "      <td>1</td>\n",
       "      <td>11</td>\n",
       "      <td>2018-03-04</td>\n",
       "      <td>4704280</td>\n",
       "      <td>2018</td>\n",
       "      <td>3</td>\n",
       "    </tr>\n",
       "    <tr>\n",
       "      <th>1</th>\n",
       "      <td>1</td>\n",
       "      <td>2</td>\n",
       "      <td>1</td>\n",
       "      <td>2018-03-17</td>\n",
       "      <td>8000000</td>\n",
       "      <td>2018</td>\n",
       "      <td>3</td>\n",
       "    </tr>\n",
       "    <tr>\n",
       "      <th>2</th>\n",
       "      <td>2</td>\n",
       "      <td>3</td>\n",
       "      <td>1</td>\n",
       "      <td>2018-04-03</td>\n",
       "      <td>11500000</td>\n",
       "      <td>2018</td>\n",
       "      <td>4</td>\n",
       "    </tr>\n",
       "    <tr>\n",
       "      <th>3</th>\n",
       "      <td>3</td>\n",
       "      <td>2</td>\n",
       "      <td>1</td>\n",
       "      <td>2018-04-07</td>\n",
       "      <td>10200000</td>\n",
       "      <td>2018</td>\n",
       "      <td>4</td>\n",
       "    </tr>\n",
       "    <tr>\n",
       "      <th>4</th>\n",
       "      <td>4</td>\n",
       "      <td>1</td>\n",
       "      <td>1</td>\n",
       "      <td>2018-04-18</td>\n",
       "      <td>11500000</td>\n",
       "      <td>2018</td>\n",
       "      <td>4</td>\n",
       "    </tr>\n",
       "  </tbody>\n",
       "</table>\n",
       "</div>"
      ],
      "text/plain": [
       "   Unnamed: 0  rooms  object_type   timestamp    target  year  month\n",
       "0           0      1           11  2018-03-04   4704280  2018      3\n",
       "1           1      2            1  2018-03-17   8000000  2018      3\n",
       "2           2      3            1  2018-04-03  11500000  2018      4\n",
       "3           3      2            1  2018-04-07  10200000  2018      4\n",
       "4           4      1            1  2018-04-18  11500000  2018      4"
      ]
     },
     "execution_count": 5,
     "metadata": {},
     "output_type": "execute_result"
    }
   ],
   "source": [
    "data.head()"
   ]
  },
  {
   "cell_type": "code",
   "execution_count": 6,
   "metadata": {},
   "outputs": [],
   "source": [
    "data = data.merge(data_claster, left_on='Unnamed: 0', right_on='Unnamed: 0')"
   ]
  },
  {
   "cell_type": "code",
   "execution_count": 7,
   "metadata": {},
   "outputs": [
    {
     "data": {
      "text/html": [
       "<div>\n",
       "<style scoped>\n",
       "    .dataframe tbody tr th:only-of-type {\n",
       "        vertical-align: middle;\n",
       "    }\n",
       "\n",
       "    .dataframe tbody tr th {\n",
       "        vertical-align: top;\n",
       "    }\n",
       "\n",
       "    .dataframe thead th {\n",
       "        text-align: right;\n",
       "    }\n",
       "</style>\n",
       "<table border=\"1\" class=\"dataframe\">\n",
       "  <thead>\n",
       "    <tr style=\"text-align: right;\">\n",
       "      <th></th>\n",
       "      <th>Unnamed: 0</th>\n",
       "      <th>rooms</th>\n",
       "      <th>object_type</th>\n",
       "      <th>timestamp</th>\n",
       "      <th>target</th>\n",
       "      <th>year</th>\n",
       "      <th>month</th>\n",
       "      <th>LAT</th>\n",
       "      <th>LON</th>\n",
       "      <th>X</th>\n",
       "      <th>Y</th>\n",
       "      <th>claster</th>\n",
       "    </tr>\n",
       "  </thead>\n",
       "  <tbody>\n",
       "    <tr>\n",
       "      <th>0</th>\n",
       "      <td>0</td>\n",
       "      <td>1</td>\n",
       "      <td>11</td>\n",
       "      <td>2018-03-04</td>\n",
       "      <td>4704280</td>\n",
       "      <td>2018</td>\n",
       "      <td>3</td>\n",
       "      <td>55.621097</td>\n",
       "      <td>37.431002</td>\n",
       "      <td>-14.444944</td>\n",
       "      <td>-11.700003</td>\n",
       "      <td>3</td>\n",
       "    </tr>\n",
       "    <tr>\n",
       "      <th>1</th>\n",
       "      <td>1</td>\n",
       "      <td>2</td>\n",
       "      <td>1</td>\n",
       "      <td>2018-03-17</td>\n",
       "      <td>8000000</td>\n",
       "      <td>2018</td>\n",
       "      <td>3</td>\n",
       "      <td>55.738876</td>\n",
       "      <td>37.825370</td>\n",
       "      <td>-1.348461</td>\n",
       "      <td>12.979352</td>\n",
       "      <td>4</td>\n",
       "    </tr>\n",
       "    <tr>\n",
       "      <th>2</th>\n",
       "      <td>2</td>\n",
       "      <td>3</td>\n",
       "      <td>1</td>\n",
       "      <td>2018-04-03</td>\n",
       "      <td>11500000</td>\n",
       "      <td>2018</td>\n",
       "      <td>4</td>\n",
       "      <td>55.798921</td>\n",
       "      <td>37.738090</td>\n",
       "      <td>5.328294</td>\n",
       "      <td>7.517425</td>\n",
       "      <td>6</td>\n",
       "    </tr>\n",
       "    <tr>\n",
       "      <th>3</th>\n",
       "      <td>3</td>\n",
       "      <td>2</td>\n",
       "      <td>1</td>\n",
       "      <td>2018-04-07</td>\n",
       "      <td>10200000</td>\n",
       "      <td>2018</td>\n",
       "      <td>4</td>\n",
       "      <td>55.655307</td>\n",
       "      <td>37.614605</td>\n",
       "      <td>-10.640910</td>\n",
       "      <td>-0.210186</td>\n",
       "      <td>8</td>\n",
       "    </tr>\n",
       "    <tr>\n",
       "      <th>4</th>\n",
       "      <td>4</td>\n",
       "      <td>1</td>\n",
       "      <td>1</td>\n",
       "      <td>2018-04-18</td>\n",
       "      <td>11500000</td>\n",
       "      <td>2018</td>\n",
       "      <td>4</td>\n",
       "      <td>55.701330</td>\n",
       "      <td>37.507412</td>\n",
       "      <td>-5.523386</td>\n",
       "      <td>-6.918283</td>\n",
       "      <td>16</td>\n",
       "    </tr>\n",
       "    <tr>\n",
       "      <th>...</th>\n",
       "      <td>...</td>\n",
       "      <td>...</td>\n",
       "      <td>...</td>\n",
       "      <td>...</td>\n",
       "      <td>...</td>\n",
       "      <td>...</td>\n",
       "      <td>...</td>\n",
       "      <td>...</td>\n",
       "      <td>...</td>\n",
       "      <td>...</td>\n",
       "      <td>...</td>\n",
       "      <td>...</td>\n",
       "    </tr>\n",
       "    <tr>\n",
       "      <th>368153</th>\n",
       "      <td>368153</td>\n",
       "      <td>1</td>\n",
       "      <td>1</td>\n",
       "      <td>2021-05-01</td>\n",
       "      <td>12850000</td>\n",
       "      <td>2021</td>\n",
       "      <td>5</td>\n",
       "      <td>55.701280</td>\n",
       "      <td>37.642654</td>\n",
       "      <td>-5.528945</td>\n",
       "      <td>1.545086</td>\n",
       "      <td>8</td>\n",
       "    </tr>\n",
       "    <tr>\n",
       "      <th>368154</th>\n",
       "      <td>368154</td>\n",
       "      <td>4</td>\n",
       "      <td>11</td>\n",
       "      <td>2021-05-01</td>\n",
       "      <td>19739760</td>\n",
       "      <td>2021</td>\n",
       "      <td>5</td>\n",
       "      <td>55.804736</td>\n",
       "      <td>37.750898</td>\n",
       "      <td>5.974848</td>\n",
       "      <td>8.318923</td>\n",
       "      <td>6</td>\n",
       "    </tr>\n",
       "    <tr>\n",
       "      <th>368155</th>\n",
       "      <td>368155</td>\n",
       "      <td>2</td>\n",
       "      <td>11</td>\n",
       "      <td>2021-05-01</td>\n",
       "      <td>12503160</td>\n",
       "      <td>2021</td>\n",
       "      <td>5</td>\n",
       "      <td>55.841415</td>\n",
       "      <td>37.489624</td>\n",
       "      <td>10.053356</td>\n",
       "      <td>-8.031446</td>\n",
       "      <td>5</td>\n",
       "    </tr>\n",
       "    <tr>\n",
       "      <th>368156</th>\n",
       "      <td>368156</td>\n",
       "      <td>2</td>\n",
       "      <td>11</td>\n",
       "      <td>2021-05-01</td>\n",
       "      <td>11831910</td>\n",
       "      <td>2021</td>\n",
       "      <td>5</td>\n",
       "      <td>55.804736</td>\n",
       "      <td>37.750898</td>\n",
       "      <td>5.974848</td>\n",
       "      <td>8.318923</td>\n",
       "      <td>6</td>\n",
       "    </tr>\n",
       "    <tr>\n",
       "      <th>368157</th>\n",
       "      <td>368157</td>\n",
       "      <td>2</td>\n",
       "      <td>11</td>\n",
       "      <td>2021-05-01</td>\n",
       "      <td>13316200</td>\n",
       "      <td>2021</td>\n",
       "      <td>5</td>\n",
       "      <td>55.860240</td>\n",
       "      <td>37.540356</td>\n",
       "      <td>12.146556</td>\n",
       "      <td>-4.856678</td>\n",
       "      <td>5</td>\n",
       "    </tr>\n",
       "  </tbody>\n",
       "</table>\n",
       "<p>368158 rows × 12 columns</p>\n",
       "</div>"
      ],
      "text/plain": [
       "        Unnamed: 0  rooms  object_type   timestamp    target  year  month  \\\n",
       "0                0      1           11  2018-03-04   4704280  2018      3   \n",
       "1                1      2            1  2018-03-17   8000000  2018      3   \n",
       "2                2      3            1  2018-04-03  11500000  2018      4   \n",
       "3                3      2            1  2018-04-07  10200000  2018      4   \n",
       "4                4      1            1  2018-04-18  11500000  2018      4   \n",
       "...            ...    ...          ...         ...       ...   ...    ...   \n",
       "368153      368153      1            1  2021-05-01  12850000  2021      5   \n",
       "368154      368154      4           11  2021-05-01  19739760  2021      5   \n",
       "368155      368155      2           11  2021-05-01  12503160  2021      5   \n",
       "368156      368156      2           11  2021-05-01  11831910  2021      5   \n",
       "368157      368157      2           11  2021-05-01  13316200  2021      5   \n",
       "\n",
       "              LAT        LON          X          Y  claster  \n",
       "0       55.621097  37.431002 -14.444944 -11.700003        3  \n",
       "1       55.738876  37.825370  -1.348461  12.979352        4  \n",
       "2       55.798921  37.738090   5.328294   7.517425        6  \n",
       "3       55.655307  37.614605 -10.640910  -0.210186        8  \n",
       "4       55.701330  37.507412  -5.523386  -6.918283       16  \n",
       "...           ...        ...        ...        ...      ...  \n",
       "368153  55.701280  37.642654  -5.528945   1.545086        8  \n",
       "368154  55.804736  37.750898   5.974848   8.318923        6  \n",
       "368155  55.841415  37.489624  10.053356  -8.031446        5  \n",
       "368156  55.804736  37.750898   5.974848   8.318923        6  \n",
       "368157  55.860240  37.540356  12.146556  -4.856678        5  \n",
       "\n",
       "[368158 rows x 12 columns]"
      ]
     },
     "execution_count": 7,
     "metadata": {},
     "output_type": "execute_result"
    }
   ],
   "source": [
    "data"
   ]
  },
  {
   "cell_type": "code",
   "execution_count": 8,
   "metadata": {},
   "outputs": [],
   "source": [
    "def drop_field(df : pd.DataFrame):\n",
    "    df.drop('Unnamed: 0', axis=1, inplace=True)\n",
    "    df.drop('X', axis=1, inplace=True)\n",
    "    df.drop('Y', axis=1, inplace=True)\n",
    "    df.drop('LAT', axis=1, inplace=True)\n",
    "    df.drop('LON', axis=1, inplace=True)\n",
    "    df.drop('year', axis=1, inplace=True)\n",
    "    df.drop('month', axis=1, inplace=True)\n",
    "    return df"
   ]
  },
  {
   "cell_type": "code",
   "execution_count": 9,
   "metadata": {},
   "outputs": [],
   "source": [
    "data = drop_field(data.copy())"
   ]
  },
  {
   "cell_type": "code",
   "execution_count": 10,
   "metadata": {},
   "outputs": [
    {
     "name": "stdout",
     "output_type": "stream",
     "text": [
      "[ 3  4  6  8 16 18  7 17 19  0 12 15  9  5  1 11 14 13  2 10]\n",
      "[11  1]\n",
      "[1 2 3 4]\n"
     ]
    }
   ],
   "source": [
    "print(data[\"claster\"].unique())\n",
    "print(data[\"object_type\"].unique())\n",
    "print(data[\"rooms\"].unique())"
   ]
  },
  {
   "cell_type": "code",
   "execution_count": 11,
   "metadata": {},
   "outputs": [
    {
     "name": "stdout",
     "output_type": "stream",
     "text": [
      "['k=3_t=11_r=1' 'k=4_t=1_r=2' 'k=6_t=1_r=3' 'k=8_t=1_r=2' 'k=16_t=1_r=1'\n",
      " 'k=18_t=1_r=3' 'k=8_t=1_r=3' 'k=4_t=1_r=1' 'k=4_t=1_r=3' 'k=7_t=1_r=2'\n",
      " 'k=17_t=11_r=2' 'k=16_t=1_r=2' 'k=19_t=11_r=1' 'k=19_t=11_r=3'\n",
      " 'k=19_t=11_r=2' 'k=0_t=1_r=1' 'k=8_t=1_r=4' 'k=12_t=1_r=3' 'k=7_t=1_r=1'\n",
      " 'k=15_t=11_r=2' 'k=15_t=11_r=3' 'k=15_t=11_r=1' 'k=0_t=1_r=2'\n",
      " 'k=9_t=11_r=1' 'k=9_t=11_r=3' 'k=9_t=11_r=2' 'k=9_t=11_r=4'\n",
      " 'k=5_t=11_r=1' 'k=16_t=1_r=4' 'k=0_t=11_r=3' 'k=0_t=11_r=2' 'k=9_t=1_r=4'\n",
      " 'k=12_t=1_r=1' 'k=7_t=1_r=3' 'k=1_t=1_r=2' 'k=18_t=1_r=2' 'k=5_t=1_r=2'\n",
      " 'k=5_t=1_r=4' 'k=15_t=1_r=3' 'k=3_t=11_r=2' 'k=3_t=11_r=3'\n",
      " 'k=11_t=11_r=1' 'k=14_t=11_r=2' 'k=14_t=11_r=1' 'k=13_t=11_r=1'\n",
      " 'k=1_t=1_r=1' 'k=17_t=11_r=1' 'k=19_t=1_r=1' 'k=1_t=11_r=1'\n",
      " 'k=1_t=11_r=2' 'k=1_t=11_r=3' 'k=14_t=1_r=2' 'k=5_t=1_r=1' 'k=11_t=1_r=2'\n",
      " 'k=9_t=1_r=1' 'k=13_t=1_r=2' 'k=6_t=1_r=2' 'k=13_t=1_r=1' 'k=8_t=11_r=1'\n",
      " 'k=2_t=1_r=2' 'k=9_t=1_r=2' 'k=10_t=1_r=3' 'k=10_t=11_r=3' 'k=2_t=1_r=3'\n",
      " 'k=10_t=1_r=2' 'k=5_t=1_r=3' 'k=10_t=11_r=1' 'k=10_t=11_r=2'\n",
      " 'k=12_t=11_r=2' 'k=4_t=11_r=3' 'k=4_t=11_r=2' 'k=6_t=11_r=1'\n",
      " 'k=4_t=11_r=1' 'k=2_t=11_r=1' 'k=6_t=11_r=2' 'k=11_t=11_r=2'\n",
      " 'k=2_t=11_r=3' 'k=11_t=11_r=3' 'k=12_t=11_r=1' 'k=12_t=11_r=3'\n",
      " 'k=2_t=1_r=1' 'k=3_t=1_r=1' 'k=8_t=1_r=1' 'k=16_t=1_r=3' 'k=17_t=1_r=1'\n",
      " 'k=8_t=11_r=2' 'k=7_t=11_r=3' 'k=11_t=1_r=3' 'k=0_t=1_r=3' 'k=7_t=11_r=2'\n",
      " 'k=7_t=11_r=1' 'k=11_t=1_r=1' 'k=0_t=11_r=1' 'k=9_t=1_r=3' 'k=18_t=1_r=1'\n",
      " 'k=15_t=1_r=1' 'k=2_t=1_r=4' 'k=17_t=1_r=2' 'k=12_t=1_r=2' 'k=18_t=1_r=4'\n",
      " 'k=6_t=1_r=1' 'k=19_t=1_r=2' 'k=10_t=1_r=1' 'k=14_t=1_r=3' 'k=17_t=1_r=3'\n",
      " 'k=15_t=1_r=2' 'k=16_t=11_r=1' 'k=16_t=11_r=2' 'k=0_t=1_r=4'\n",
      " 'k=3_t=1_r=3' 'k=1_t=1_r=3' 'k=3_t=1_r=2' 'k=13_t=11_r=2' 'k=13_t=1_r=3'\n",
      " 'k=7_t=11_r=4' 'k=13_t=1_r=4' 'k=14_t=1_r=1' 'k=18_t=11_r=1'\n",
      " 'k=2_t=11_r=2' 'k=6_t=11_r=3' 'k=19_t=1_r=3' 'k=5_t=11_r=3'\n",
      " 'k=5_t=11_r=2' 'k=17_t=1_r=4' 'k=17_t=11_r=3' 'k=16_t=11_r=3'\n",
      " 'k=18_t=11_r=3' 'k=11_t=1_r=4' 'k=2_t=11_r=4' 'k=8_t=11_r=3'\n",
      " 'k=13_t=11_r=3' 'k=11_t=11_r=4' 'k=18_t=11_r=2' 'k=13_t=11_r=4'\n",
      " 'k=1_t=1_r=4' 'k=15_t=1_r=4' 'k=17_t=11_r=4' 'k=14_t=1_r=4'\n",
      " 'k=12_t=11_r=4' 'k=4_t=1_r=4' 'k=6_t=1_r=4' 'k=19_t=1_r=4' 'k=10_t=1_r=4'\n",
      " 'k=3_t=1_r=4' 'k=7_t=1_r=4' 'k=12_t=1_r=4' 'k=14_t=11_r=4' 'k=3_t=11_r=4'\n",
      " 'k=16_t=11_r=4' 'k=10_t=11_r=4' 'k=14_t=11_r=3' 'k=0_t=11_r=4'\n",
      " 'k=1_t=11_r=4' 'k=5_t=11_r=4' 'k=8_t=11_r=4' 'k=6_t=11_r=4'\n",
      " 'k=4_t=11_r=4' 'k=18_t=11_r=4' 'k=19_t=11_r=4' 'k=15_t=11_r=4']\n"
     ]
    },
    {
     "data": {
      "text/plain": [
       "160"
      ]
     },
     "execution_count": 11,
     "metadata": {},
     "output_type": "execute_result"
    }
   ],
   "source": [
    "data[\"segment\"] = \"k=\" + data[\"claster\"].astype(str) + \"_\" + \"t=\" + data[\"object_type\"].astype(str) + \"_\" +\"r=\"+ data[\"rooms\"].astype(str)\n",
    "print(data[\"segment\"].unique())\n",
    "len(data[\"segment\"].unique())"
   ]
  },
  {
   "cell_type": "code",
   "execution_count": 12,
   "metadata": {},
   "outputs": [],
   "source": [
    "def del_field(df):\n",
    "    df.drop('claster', axis=1, inplace=True)\n",
    "    df.drop('object_type', axis=1, inplace=True)\n",
    "    df.drop('rooms', axis=1, inplace=True)\n",
    "    return df"
   ]
  },
  {
   "cell_type": "code",
   "execution_count": 13,
   "metadata": {},
   "outputs": [],
   "source": [
    "data = del_field(data.copy())"
   ]
  },
  {
   "cell_type": "code",
   "execution_count": 14,
   "metadata": {},
   "outputs": [
    {
     "data": {
      "text/html": [
       "<div>\n",
       "<style scoped>\n",
       "    .dataframe tbody tr th:only-of-type {\n",
       "        vertical-align: middle;\n",
       "    }\n",
       "\n",
       "    .dataframe tbody tr th {\n",
       "        vertical-align: top;\n",
       "    }\n",
       "\n",
       "    .dataframe thead th {\n",
       "        text-align: right;\n",
       "    }\n",
       "</style>\n",
       "<table border=\"1\" class=\"dataframe\">\n",
       "  <thead>\n",
       "    <tr style=\"text-align: right;\">\n",
       "      <th></th>\n",
       "      <th>timestamp</th>\n",
       "      <th>target</th>\n",
       "      <th>segment</th>\n",
       "    </tr>\n",
       "  </thead>\n",
       "  <tbody>\n",
       "    <tr>\n",
       "      <th>0</th>\n",
       "      <td>2018-03-04</td>\n",
       "      <td>4704280</td>\n",
       "      <td>k=3_t=11_r=1</td>\n",
       "    </tr>\n",
       "    <tr>\n",
       "      <th>1</th>\n",
       "      <td>2018-03-17</td>\n",
       "      <td>8000000</td>\n",
       "      <td>k=4_t=1_r=2</td>\n",
       "    </tr>\n",
       "    <tr>\n",
       "      <th>2</th>\n",
       "      <td>2018-04-03</td>\n",
       "      <td>11500000</td>\n",
       "      <td>k=6_t=1_r=3</td>\n",
       "    </tr>\n",
       "    <tr>\n",
       "      <th>3</th>\n",
       "      <td>2018-04-07</td>\n",
       "      <td>10200000</td>\n",
       "      <td>k=8_t=1_r=2</td>\n",
       "    </tr>\n",
       "    <tr>\n",
       "      <th>4</th>\n",
       "      <td>2018-04-18</td>\n",
       "      <td>11500000</td>\n",
       "      <td>k=16_t=1_r=1</td>\n",
       "    </tr>\n",
       "  </tbody>\n",
       "</table>\n",
       "</div>"
      ],
      "text/plain": [
       "    timestamp    target       segment\n",
       "0  2018-03-04   4704280  k=3_t=11_r=1\n",
       "1  2018-03-17   8000000   k=4_t=1_r=2\n",
       "2  2018-04-03  11500000   k=6_t=1_r=3\n",
       "3  2018-04-07  10200000   k=8_t=1_r=2\n",
       "4  2018-04-18  11500000  k=16_t=1_r=1"
      ]
     },
     "execution_count": 14,
     "metadata": {},
     "output_type": "execute_result"
    }
   ],
   "source": [
    "data.head()"
   ]
  },
  {
   "cell_type": "code",
   "execution_count": 16,
   "metadata": {},
   "outputs": [
    {
     "data": {
      "text/plain": [
       "timestamp    0\n",
       "target       0\n",
       "segment      0\n",
       "dtype: int64"
      ]
     },
     "execution_count": 16,
     "metadata": {},
     "output_type": "execute_result"
    }
   ],
   "source": [
    "data.isnull().sum()"
   ]
  },
  {
   "cell_type": "code",
   "execution_count": 18,
   "metadata": {},
   "outputs": [
    {
     "name": "stdout",
     "output_type": "stream",
     "text": [
      "/home/lelikovam/dev/price_predict/prediction_house_price\n"
     ]
    }
   ],
   "source": [
    "!pwd"
   ]
  },
  {
   "cell_type": "code",
   "execution_count": 17,
   "metadata": {},
   "outputs": [
    {
     "ename": "OSError",
     "evalue": "Cannot save file into a non-existent directory: '../data/processed'",
     "output_type": "error",
     "traceback": [
      "\u001b[0;31m---------------------------------------------------------------------------\u001b[0m",
      "\u001b[0;31mOSError\u001b[0m                                   Traceback (most recent call last)",
      "Cell \u001b[0;32mIn[17], line 1\u001b[0m\n\u001b[0;32m----> 1\u001b[0m \u001b[43mdata\u001b[49m\u001b[38;5;241;43m.\u001b[39;49m\u001b[43mto_csv\u001b[49m\u001b[43m(\u001b[49m\u001b[38;5;124;43mr\u001b[39;49m\u001b[38;5;124;43m'\u001b[39;49m\u001b[38;5;132;43;01m{0}\u001b[39;49;00m\u001b[38;5;124;43m.csv\u001b[39;49m\u001b[38;5;124;43m'\u001b[39;49m\u001b[38;5;241;43m.\u001b[39;49m\u001b[43mformat\u001b[49m\u001b[43m(\u001b[49m\u001b[38;5;124;43m'\u001b[39;49m\u001b[38;5;124;43m../data/processed/msk_segment_days\u001b[39;49m\u001b[38;5;124;43m'\u001b[39;49m\u001b[43m)\u001b[49m\u001b[43m)\u001b[49m\n",
      "File \u001b[0;32m~/dev/price_predict/mlenv/lib/python3.10/site-packages/pandas/util/_decorators.py:211\u001b[0m, in \u001b[0;36mdeprecate_kwarg.<locals>._deprecate_kwarg.<locals>.wrapper\u001b[0;34m(*args, **kwargs)\u001b[0m\n\u001b[1;32m    209\u001b[0m     \u001b[38;5;28;01melse\u001b[39;00m:\n\u001b[1;32m    210\u001b[0m         kwargs[new_arg_name] \u001b[38;5;241m=\u001b[39m new_arg_value\n\u001b[0;32m--> 211\u001b[0m \u001b[38;5;28;01mreturn\u001b[39;00m \u001b[43mfunc\u001b[49m\u001b[43m(\u001b[49m\u001b[38;5;241;43m*\u001b[39;49m\u001b[43margs\u001b[49m\u001b[43m,\u001b[49m\u001b[43m \u001b[49m\u001b[38;5;241;43m*\u001b[39;49m\u001b[38;5;241;43m*\u001b[39;49m\u001b[43mkwargs\u001b[49m\u001b[43m)\u001b[49m\n",
      "File \u001b[0;32m~/dev/price_predict/mlenv/lib/python3.10/site-packages/pandas/core/generic.py:3720\u001b[0m, in \u001b[0;36mNDFrame.to_csv\u001b[0;34m(self, path_or_buf, sep, na_rep, float_format, columns, header, index, index_label, mode, encoding, compression, quoting, quotechar, lineterminator, chunksize, date_format, doublequote, escapechar, decimal, errors, storage_options)\u001b[0m\n\u001b[1;32m   3709\u001b[0m df \u001b[38;5;241m=\u001b[39m \u001b[38;5;28mself\u001b[39m \u001b[38;5;28;01mif\u001b[39;00m \u001b[38;5;28misinstance\u001b[39m(\u001b[38;5;28mself\u001b[39m, ABCDataFrame) \u001b[38;5;28;01melse\u001b[39;00m \u001b[38;5;28mself\u001b[39m\u001b[38;5;241m.\u001b[39mto_frame()\n\u001b[1;32m   3711\u001b[0m formatter \u001b[38;5;241m=\u001b[39m DataFrameFormatter(\n\u001b[1;32m   3712\u001b[0m     frame\u001b[38;5;241m=\u001b[39mdf,\n\u001b[1;32m   3713\u001b[0m     header\u001b[38;5;241m=\u001b[39mheader,\n\u001b[0;32m   (...)\u001b[0m\n\u001b[1;32m   3717\u001b[0m     decimal\u001b[38;5;241m=\u001b[39mdecimal,\n\u001b[1;32m   3718\u001b[0m )\n\u001b[0;32m-> 3720\u001b[0m \u001b[38;5;28;01mreturn\u001b[39;00m \u001b[43mDataFrameRenderer\u001b[49m\u001b[43m(\u001b[49m\u001b[43mformatter\u001b[49m\u001b[43m)\u001b[49m\u001b[38;5;241;43m.\u001b[39;49m\u001b[43mto_csv\u001b[49m\u001b[43m(\u001b[49m\n\u001b[1;32m   3721\u001b[0m \u001b[43m    \u001b[49m\u001b[43mpath_or_buf\u001b[49m\u001b[43m,\u001b[49m\n\u001b[1;32m   3722\u001b[0m \u001b[43m    \u001b[49m\u001b[43mlineterminator\u001b[49m\u001b[38;5;241;43m=\u001b[39;49m\u001b[43mlineterminator\u001b[49m\u001b[43m,\u001b[49m\n\u001b[1;32m   3723\u001b[0m \u001b[43m    \u001b[49m\u001b[43msep\u001b[49m\u001b[38;5;241;43m=\u001b[39;49m\u001b[43msep\u001b[49m\u001b[43m,\u001b[49m\n\u001b[1;32m   3724\u001b[0m \u001b[43m    \u001b[49m\u001b[43mencoding\u001b[49m\u001b[38;5;241;43m=\u001b[39;49m\u001b[43mencoding\u001b[49m\u001b[43m,\u001b[49m\n\u001b[1;32m   3725\u001b[0m \u001b[43m    \u001b[49m\u001b[43merrors\u001b[49m\u001b[38;5;241;43m=\u001b[39;49m\u001b[43merrors\u001b[49m\u001b[43m,\u001b[49m\n\u001b[1;32m   3726\u001b[0m \u001b[43m    \u001b[49m\u001b[43mcompression\u001b[49m\u001b[38;5;241;43m=\u001b[39;49m\u001b[43mcompression\u001b[49m\u001b[43m,\u001b[49m\n\u001b[1;32m   3727\u001b[0m \u001b[43m    \u001b[49m\u001b[43mquoting\u001b[49m\u001b[38;5;241;43m=\u001b[39;49m\u001b[43mquoting\u001b[49m\u001b[43m,\u001b[49m\n\u001b[1;32m   3728\u001b[0m \u001b[43m    \u001b[49m\u001b[43mcolumns\u001b[49m\u001b[38;5;241;43m=\u001b[39;49m\u001b[43mcolumns\u001b[49m\u001b[43m,\u001b[49m\n\u001b[1;32m   3729\u001b[0m \u001b[43m    \u001b[49m\u001b[43mindex_label\u001b[49m\u001b[38;5;241;43m=\u001b[39;49m\u001b[43mindex_label\u001b[49m\u001b[43m,\u001b[49m\n\u001b[1;32m   3730\u001b[0m \u001b[43m    \u001b[49m\u001b[43mmode\u001b[49m\u001b[38;5;241;43m=\u001b[39;49m\u001b[43mmode\u001b[49m\u001b[43m,\u001b[49m\n\u001b[1;32m   3731\u001b[0m \u001b[43m    \u001b[49m\u001b[43mchunksize\u001b[49m\u001b[38;5;241;43m=\u001b[39;49m\u001b[43mchunksize\u001b[49m\u001b[43m,\u001b[49m\n\u001b[1;32m   3732\u001b[0m \u001b[43m    \u001b[49m\u001b[43mquotechar\u001b[49m\u001b[38;5;241;43m=\u001b[39;49m\u001b[43mquotechar\u001b[49m\u001b[43m,\u001b[49m\n\u001b[1;32m   3733\u001b[0m \u001b[43m    \u001b[49m\u001b[43mdate_format\u001b[49m\u001b[38;5;241;43m=\u001b[39;49m\u001b[43mdate_format\u001b[49m\u001b[43m,\u001b[49m\n\u001b[1;32m   3734\u001b[0m \u001b[43m    \u001b[49m\u001b[43mdoublequote\u001b[49m\u001b[38;5;241;43m=\u001b[39;49m\u001b[43mdoublequote\u001b[49m\u001b[43m,\u001b[49m\n\u001b[1;32m   3735\u001b[0m \u001b[43m    \u001b[49m\u001b[43mescapechar\u001b[49m\u001b[38;5;241;43m=\u001b[39;49m\u001b[43mescapechar\u001b[49m\u001b[43m,\u001b[49m\n\u001b[1;32m   3736\u001b[0m \u001b[43m    \u001b[49m\u001b[43mstorage_options\u001b[49m\u001b[38;5;241;43m=\u001b[39;49m\u001b[43mstorage_options\u001b[49m\u001b[43m,\u001b[49m\n\u001b[1;32m   3737\u001b[0m \u001b[43m\u001b[49m\u001b[43m)\u001b[49m\n",
      "File \u001b[0;32m~/dev/price_predict/mlenv/lib/python3.10/site-packages/pandas/util/_decorators.py:211\u001b[0m, in \u001b[0;36mdeprecate_kwarg.<locals>._deprecate_kwarg.<locals>.wrapper\u001b[0;34m(*args, **kwargs)\u001b[0m\n\u001b[1;32m    209\u001b[0m     \u001b[38;5;28;01melse\u001b[39;00m:\n\u001b[1;32m    210\u001b[0m         kwargs[new_arg_name] \u001b[38;5;241m=\u001b[39m new_arg_value\n\u001b[0;32m--> 211\u001b[0m \u001b[38;5;28;01mreturn\u001b[39;00m \u001b[43mfunc\u001b[49m\u001b[43m(\u001b[49m\u001b[38;5;241;43m*\u001b[39;49m\u001b[43margs\u001b[49m\u001b[43m,\u001b[49m\u001b[43m \u001b[49m\u001b[38;5;241;43m*\u001b[39;49m\u001b[38;5;241;43m*\u001b[39;49m\u001b[43mkwargs\u001b[49m\u001b[43m)\u001b[49m\n",
      "File \u001b[0;32m~/dev/price_predict/mlenv/lib/python3.10/site-packages/pandas/io/formats/format.py:1189\u001b[0m, in \u001b[0;36mDataFrameRenderer.to_csv\u001b[0;34m(self, path_or_buf, encoding, sep, columns, index_label, mode, compression, quoting, quotechar, lineterminator, chunksize, date_format, doublequote, escapechar, errors, storage_options)\u001b[0m\n\u001b[1;32m   1168\u001b[0m     created_buffer \u001b[38;5;241m=\u001b[39m \u001b[38;5;28;01mFalse\u001b[39;00m\n\u001b[1;32m   1170\u001b[0m csv_formatter \u001b[38;5;241m=\u001b[39m CSVFormatter(\n\u001b[1;32m   1171\u001b[0m     path_or_buf\u001b[38;5;241m=\u001b[39mpath_or_buf,\n\u001b[1;32m   1172\u001b[0m     lineterminator\u001b[38;5;241m=\u001b[39mlineterminator,\n\u001b[0;32m   (...)\u001b[0m\n\u001b[1;32m   1187\u001b[0m     formatter\u001b[38;5;241m=\u001b[39m\u001b[38;5;28mself\u001b[39m\u001b[38;5;241m.\u001b[39mfmt,\n\u001b[1;32m   1188\u001b[0m )\n\u001b[0;32m-> 1189\u001b[0m \u001b[43mcsv_formatter\u001b[49m\u001b[38;5;241;43m.\u001b[39;49m\u001b[43msave\u001b[49m\u001b[43m(\u001b[49m\u001b[43m)\u001b[49m\n\u001b[1;32m   1191\u001b[0m \u001b[38;5;28;01mif\u001b[39;00m created_buffer:\n\u001b[1;32m   1192\u001b[0m     \u001b[38;5;28;01massert\u001b[39;00m \u001b[38;5;28misinstance\u001b[39m(path_or_buf, StringIO)\n",
      "File \u001b[0;32m~/dev/price_predict/mlenv/lib/python3.10/site-packages/pandas/io/formats/csvs.py:241\u001b[0m, in \u001b[0;36mCSVFormatter.save\u001b[0;34m(self)\u001b[0m\n\u001b[1;32m    237\u001b[0m \u001b[38;5;250m\u001b[39m\u001b[38;5;124;03m\"\"\"\u001b[39;00m\n\u001b[1;32m    238\u001b[0m \u001b[38;5;124;03mCreate the writer & save.\u001b[39;00m\n\u001b[1;32m    239\u001b[0m \u001b[38;5;124;03m\"\"\"\u001b[39;00m\n\u001b[1;32m    240\u001b[0m \u001b[38;5;66;03m# apply compression and byte/text conversion\u001b[39;00m\n\u001b[0;32m--> 241\u001b[0m \u001b[38;5;28;01mwith\u001b[39;00m \u001b[43mget_handle\u001b[49m\u001b[43m(\u001b[49m\n\u001b[1;32m    242\u001b[0m \u001b[43m    \u001b[49m\u001b[38;5;28;43mself\u001b[39;49m\u001b[38;5;241;43m.\u001b[39;49m\u001b[43mfilepath_or_buffer\u001b[49m\u001b[43m,\u001b[49m\n\u001b[1;32m    243\u001b[0m \u001b[43m    \u001b[49m\u001b[38;5;28;43mself\u001b[39;49m\u001b[38;5;241;43m.\u001b[39;49m\u001b[43mmode\u001b[49m\u001b[43m,\u001b[49m\n\u001b[1;32m    244\u001b[0m \u001b[43m    \u001b[49m\u001b[43mencoding\u001b[49m\u001b[38;5;241;43m=\u001b[39;49m\u001b[38;5;28;43mself\u001b[39;49m\u001b[38;5;241;43m.\u001b[39;49m\u001b[43mencoding\u001b[49m\u001b[43m,\u001b[49m\n\u001b[1;32m    245\u001b[0m \u001b[43m    \u001b[49m\u001b[43merrors\u001b[49m\u001b[38;5;241;43m=\u001b[39;49m\u001b[38;5;28;43mself\u001b[39;49m\u001b[38;5;241;43m.\u001b[39;49m\u001b[43merrors\u001b[49m\u001b[43m,\u001b[49m\n\u001b[1;32m    246\u001b[0m \u001b[43m    \u001b[49m\u001b[43mcompression\u001b[49m\u001b[38;5;241;43m=\u001b[39;49m\u001b[38;5;28;43mself\u001b[39;49m\u001b[38;5;241;43m.\u001b[39;49m\u001b[43mcompression\u001b[49m\u001b[43m,\u001b[49m\n\u001b[1;32m    247\u001b[0m \u001b[43m    \u001b[49m\u001b[43mstorage_options\u001b[49m\u001b[38;5;241;43m=\u001b[39;49m\u001b[38;5;28;43mself\u001b[39;49m\u001b[38;5;241;43m.\u001b[39;49m\u001b[43mstorage_options\u001b[49m\u001b[43m,\u001b[49m\n\u001b[1;32m    248\u001b[0m \u001b[43m\u001b[49m\u001b[43m)\u001b[49m \u001b[38;5;28;01mas\u001b[39;00m handles:\n\u001b[1;32m    249\u001b[0m \n\u001b[1;32m    250\u001b[0m     \u001b[38;5;66;03m# Note: self.encoding is irrelevant here\u001b[39;00m\n\u001b[1;32m    251\u001b[0m     \u001b[38;5;28mself\u001b[39m\u001b[38;5;241m.\u001b[39mwriter \u001b[38;5;241m=\u001b[39m csvlib\u001b[38;5;241m.\u001b[39mwriter(\n\u001b[1;32m    252\u001b[0m         handles\u001b[38;5;241m.\u001b[39mhandle,\n\u001b[1;32m    253\u001b[0m         lineterminator\u001b[38;5;241m=\u001b[39m\u001b[38;5;28mself\u001b[39m\u001b[38;5;241m.\u001b[39mlineterminator,\n\u001b[0;32m   (...)\u001b[0m\n\u001b[1;32m    258\u001b[0m         quotechar\u001b[38;5;241m=\u001b[39m\u001b[38;5;28mself\u001b[39m\u001b[38;5;241m.\u001b[39mquotechar,\n\u001b[1;32m    259\u001b[0m     )\n\u001b[1;32m    261\u001b[0m     \u001b[38;5;28mself\u001b[39m\u001b[38;5;241m.\u001b[39m_save()\n",
      "File \u001b[0;32m~/dev/price_predict/mlenv/lib/python3.10/site-packages/pandas/io/common.py:734\u001b[0m, in \u001b[0;36mget_handle\u001b[0;34m(path_or_buf, mode, encoding, compression, memory_map, is_text, errors, storage_options)\u001b[0m\n\u001b[1;32m    732\u001b[0m \u001b[38;5;66;03m# Only for write methods\u001b[39;00m\n\u001b[1;32m    733\u001b[0m \u001b[38;5;28;01mif\u001b[39;00m \u001b[38;5;124m\"\u001b[39m\u001b[38;5;124mr\u001b[39m\u001b[38;5;124m\"\u001b[39m \u001b[38;5;129;01mnot\u001b[39;00m \u001b[38;5;129;01min\u001b[39;00m mode \u001b[38;5;129;01mand\u001b[39;00m is_path:\n\u001b[0;32m--> 734\u001b[0m     \u001b[43mcheck_parent_directory\u001b[49m\u001b[43m(\u001b[49m\u001b[38;5;28;43mstr\u001b[39;49m\u001b[43m(\u001b[49m\u001b[43mhandle\u001b[49m\u001b[43m)\u001b[49m\u001b[43m)\u001b[49m\n\u001b[1;32m    736\u001b[0m \u001b[38;5;28;01mif\u001b[39;00m compression:\n\u001b[1;32m    737\u001b[0m     \u001b[38;5;28;01mif\u001b[39;00m compression \u001b[38;5;241m!=\u001b[39m \u001b[38;5;124m\"\u001b[39m\u001b[38;5;124mzstd\u001b[39m\u001b[38;5;124m\"\u001b[39m:\n\u001b[1;32m    738\u001b[0m         \u001b[38;5;66;03m# compression libraries do not like an explicit text-mode\u001b[39;00m\n",
      "File \u001b[0;32m~/dev/price_predict/mlenv/lib/python3.10/site-packages/pandas/io/common.py:597\u001b[0m, in \u001b[0;36mcheck_parent_directory\u001b[0;34m(path)\u001b[0m\n\u001b[1;32m    595\u001b[0m parent \u001b[38;5;241m=\u001b[39m Path(path)\u001b[38;5;241m.\u001b[39mparent\n\u001b[1;32m    596\u001b[0m \u001b[38;5;28;01mif\u001b[39;00m \u001b[38;5;129;01mnot\u001b[39;00m parent\u001b[38;5;241m.\u001b[39mis_dir():\n\u001b[0;32m--> 597\u001b[0m     \u001b[38;5;28;01mraise\u001b[39;00m \u001b[38;5;167;01mOSError\u001b[39;00m(\u001b[38;5;124mrf\u001b[39m\u001b[38;5;124m\"\u001b[39m\u001b[38;5;124mCannot save file into a non-existent directory: \u001b[39m\u001b[38;5;124m'\u001b[39m\u001b[38;5;132;01m{\u001b[39;00mparent\u001b[38;5;132;01m}\u001b[39;00m\u001b[38;5;124m'\u001b[39m\u001b[38;5;124m\"\u001b[39m)\n",
      "\u001b[0;31mOSError\u001b[0m: Cannot save file into a non-existent directory: '../data/processed'"
     ]
    }
   ],
   "source": [
    "data.to_csv(r'{0}.csv'.format('/home/lelikovam/dev/price_predict/prediction_house_price/data/processed/msk_segment_days'))"
   ]
  },
  {
   "cell_type": "code",
   "execution_count": null,
   "metadata": {},
   "outputs": [],
   "source": []
  }
 ],
 "metadata": {
  "kernelspec": {
   "display_name": "Python 3 (ipykernel)",
   "language": "python",
   "name": "python3"
  },
  "language_info": {
   "codemirror_mode": {
    "name": "ipython",
    "version": 3
   },
   "file_extension": ".py",
   "mimetype": "text/x-python",
   "name": "python",
   "nbconvert_exporter": "python",
   "pygments_lexer": "ipython3",
   "version": "3.10.12"
  }
 },
 "nbformat": 4,
 "nbformat_minor": 2
}
