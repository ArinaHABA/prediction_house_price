{
 "cells": [
  {
   "cell_type": "code",
   "execution_count": 288,
   "metadata": {},
   "outputs": [],
   "source": [
    "import numpy as np\n",
    "import pandas as pd"
   ]
  },
  {
   "cell_type": "code",
   "execution_count": 289,
   "metadata": {},
   "outputs": [],
   "source": [
    "df = pd.read_csv('../data/processed/msk_2018_2021.csv')"
   ]
  },
  {
   "cell_type": "code",
   "execution_count": 290,
   "metadata": {},
   "outputs": [],
   "source": [
    "district = 'Тверской район'\n",
    "object_type = 1\n",
    "rooms = 2"
   ]
  },
  {
   "cell_type": "code",
   "execution_count": 291,
   "metadata": {},
   "outputs": [],
   "source": [
    "df = df[df['district'] == district]\n",
    "df = df[df['object_type'] == object_type]\n",
    "df = df[df['rooms'] == rooms]\n",
    "df.reset_index(drop = True, inplace = True)\n",
    "# & df['object_type'] == object_type & df['rooms'] == rooms#3"
   ]
  },
  {
   "cell_type": "code",
   "execution_count": 292,
   "metadata": {},
   "outputs": [
    {
     "data": {
      "text/plain": [
       "Index(['Unnamed: 0.1', 'Unnamed: 0', 'price', 'date', 'time', 'geo_lat',\n",
       "       'geo_lon', 'building_type', 'level', 'levels', 'rooms', 'area',\n",
       "       'kitchen_area', 'object_type', 'timestamp', 'target', 'year', 'month',\n",
       "       'distance_from_centre', 'district'],\n",
       "      dtype='object')"
      ]
     },
     "execution_count": 292,
     "metadata": {},
     "output_type": "execute_result"
    }
   ],
   "source": [
    "df.columns"
   ]
  },
  {
   "cell_type": "code",
   "execution_count": 293,
   "metadata": {},
   "outputs": [],
   "source": [
    "def drop(df : pd.DataFrame):\n",
    "    df.drop('date', axis=1, inplace=True)\n",
    "    df.drop('geo_lat', axis=1, inplace=True)\n",
    "    df.drop('geo_lon', axis=1, inplace=True)\n",
    "    df.drop('building_type', axis=1, inplace=True)\n",
    "    df.drop('level', axis=1, inplace=True)\n",
    "    df.drop('levels', axis=1, inplace=True)\n",
    "    df.drop('rooms', axis=1, inplace=True)\n",
    "    df.drop('object_type', axis=1, inplace=True)\n",
    "    df.drop('kitchen_area', axis=1, inplace=True)\n",
    "    df.drop('distance_from_centre', axis=1, inplace=True)\n",
    "    df.drop('district', axis=1, inplace=True)\n",
    "    df.drop('Unnamed: 0.1', axis=1, inplace=True)\n",
    "    df.drop('Unnamed: 0', axis=1, inplace=True)\n",
    "    df.drop('price', axis=1, inplace=True)\n",
    "    df.drop('time', axis=1, inplace=True)\n",
    "    df.drop('area', axis=1, inplace=True)\n"
   ]
  },
  {
   "cell_type": "code",
   "execution_count": 294,
   "metadata": {},
   "outputs": [],
   "source": [
    "def price_metr(df : pd.DataFrame):\n",
    "    df['target'] = df['price'] / df['area']"
   ]
  },
  {
   "cell_type": "code",
   "execution_count": 295,
   "metadata": {},
   "outputs": [],
   "source": [
    "price_metr(df)\n",
    "drop(df)"
   ]
  },
  {
   "cell_type": "code",
   "execution_count": 296,
   "metadata": {},
   "outputs": [
    {
     "name": "stdout",
     "output_type": "stream",
     "text": [
      "(2273, 4)\n"
     ]
    }
   ],
   "source": [
    "df.head(50)\n",
    "print(df.shape)"
   ]
  },
  {
   "cell_type": "code",
   "execution_count": 297,
   "metadata": {},
   "outputs": [
    {
     "data": {
      "text/html": [
       "<div>\n",
       "<style scoped>\n",
       "    .dataframe tbody tr th:only-of-type {\n",
       "        vertical-align: middle;\n",
       "    }\n",
       "\n",
       "    .dataframe tbody tr th {\n",
       "        vertical-align: top;\n",
       "    }\n",
       "\n",
       "    .dataframe thead th {\n",
       "        text-align: right;\n",
       "    }\n",
       "</style>\n",
       "<table border=\"1\" class=\"dataframe\">\n",
       "  <thead>\n",
       "    <tr style=\"text-align: right;\">\n",
       "      <th></th>\n",
       "      <th>timestamp</th>\n",
       "      <th>target</th>\n",
       "      <th>year</th>\n",
       "      <th>month</th>\n",
       "    </tr>\n",
       "  </thead>\n",
       "  <tbody>\n",
       "    <tr>\n",
       "      <th>2268</th>\n",
       "      <td>2021-05-01</td>\n",
       "      <td>228181.818182</td>\n",
       "      <td>2021</td>\n",
       "      <td>5</td>\n",
       "    </tr>\n",
       "    <tr>\n",
       "      <th>2269</th>\n",
       "      <td>2021-05-01</td>\n",
       "      <td>217727.272727</td>\n",
       "      <td>2021</td>\n",
       "      <td>5</td>\n",
       "    </tr>\n",
       "    <tr>\n",
       "      <th>2270</th>\n",
       "      <td>2021-05-01</td>\n",
       "      <td>242222.222222</td>\n",
       "      <td>2021</td>\n",
       "      <td>5</td>\n",
       "    </tr>\n",
       "    <tr>\n",
       "      <th>2271</th>\n",
       "      <td>2021-05-01</td>\n",
       "      <td>455217.391304</td>\n",
       "      <td>2021</td>\n",
       "      <td>5</td>\n",
       "    </tr>\n",
       "    <tr>\n",
       "      <th>2272</th>\n",
       "      <td>2021-05-01</td>\n",
       "      <td>226651.515152</td>\n",
       "      <td>2021</td>\n",
       "      <td>5</td>\n",
       "    </tr>\n",
       "  </tbody>\n",
       "</table>\n",
       "</div>"
      ],
      "text/plain": [
       "       timestamp         target  year  month\n",
       "2268  2021-05-01  228181.818182  2021      5\n",
       "2269  2021-05-01  217727.272727  2021      5\n",
       "2270  2021-05-01  242222.222222  2021      5\n",
       "2271  2021-05-01  455217.391304  2021      5\n",
       "2272  2021-05-01  226651.515152  2021      5"
      ]
     },
     "execution_count": 297,
     "metadata": {},
     "output_type": "execute_result"
    }
   ],
   "source": [
    "df.tail()"
   ]
  },
  {
   "cell_type": "code",
   "execution_count": 298,
   "metadata": {},
   "outputs": [
    {
     "data": {
      "text/plain": [
       "387052.13738571777"
      ]
     },
     "execution_count": 298,
     "metadata": {},
     "output_type": "execute_result"
    }
   ],
   "source": [
    "df['target'].quantile(0.9)"
   ]
  },
  {
   "cell_type": "markdown",
   "metadata": {},
   "source": [
    "Деление на бизнес и эконом каждый месяц"
   ]
  },
  {
   "cell_type": "code",
   "execution_count": 299,
   "metadata": {},
   "outputs": [],
   "source": [
    "start_year = df['year'].min()\n",
    "month_start = df.loc[df['year'] == start_year]['month'].min()\n",
    "stop_year = df['year'].max()\n",
    "month_end = df.loc[df['year'] == stop_year]['month'].max()"
   ]
  },
  {
   "cell_type": "code",
   "execution_count": 300,
   "metadata": {},
   "outputs": [],
   "source": [
    "df_cat_econom = pd.DataFrame(columns = ['timestamp', 'target', 'size' ])\n",
    "df_cat_bisnes = pd.DataFrame( columns = ['timestamp', 'target', 'size' ])\n",
    "df_category = pd.DataFrame( columns = ['timestamp', 'target' , 'size'])"
   ]
  },
  {
   "cell_type": "code",
   "execution_count": 301,
   "metadata": {},
   "outputs": [
    {
     "name": "stderr",
     "output_type": "stream",
     "text": [
      "C:\\Users\\user\\AppData\\Local\\Temp\\ipykernel_11700\\4153855823.py:18: FutureWarning: The behavior of DataFrame concatenation with empty or all-NA entries is deprecated. In a future version, this will no longer exclude empty or all-NA columns when determining the result dtypes. To retain the old behavior, exclude the relevant entries before the concat operation.\n",
      "  df_category = pd.concat([df_category,pd.DataFrame({'timestamp' : [f\"{year}-{month}-01\"] , 'target' : [df_category_add['target'].median()] , 'size': [df_category_add.shape[0]] })])\n",
      "C:\\Users\\user\\AppData\\Local\\Temp\\ipykernel_11700\\4153855823.py:23: FutureWarning: The behavior of DataFrame concatenation with empty or all-NA entries is deprecated. In a future version, this will no longer exclude empty or all-NA columns when determining the result dtypes. To retain the old behavior, exclude the relevant entries before the concat operation.\n",
      "  df_cat_econom = pd.concat([df_cat_econom,pd.DataFrame({'timestamp' : [f\"{year}-{month}-01\"] , 'target' : [df_cat_econom_add['target'].median()], 'size': [df_cat_econom_add.shape[0]]})])\n",
      "C:\\Users\\user\\AppData\\Local\\Temp\\ipykernel_11700\\4153855823.py:24: FutureWarning: The behavior of DataFrame concatenation with empty or all-NA entries is deprecated. In a future version, this will no longer exclude empty or all-NA columns when determining the result dtypes. To retain the old behavior, exclude the relevant entries before the concat operation.\n",
      "  df_cat_bisnes = pd.concat([df_cat_bisnes,pd.DataFrame({'timestamp' : [f\"{year}-{month}-01\"] , 'target' : [df_cat_bisnes_add['target'].median()], 'size': [df_cat_bisnes_add.shape[0]]})])\n"
     ]
    }
   ],
   "source": [
    "for year in range(start_year,stop_year+1):\n",
    "    if year == start_year:\n",
    "        start_month = month_start\n",
    "    else:\n",
    "        start_month = 1\n",
    "    if year == stop_year:\n",
    "        stop_month = month_end\n",
    "    else:\n",
    "        stop_month = 12\n",
    "    for month in range(start_month,stop_month+1):\n",
    "        # Вырезаем данный месяц из исходного датасета\n",
    "        df_category_add = df.loc[(df['month'] == month) & (df['year'] == year)].copy()\n",
    "        # Удаляем уже не нежные столбцы\n",
    "        df_category_add.drop('year', axis=1, inplace=True)\n",
    "        df_category_add.drop('month', axis=1, inplace=True)\n",
    "        # обрезаем выбромы (хвостики) из данного месяцы\n",
    "        df_category_add = df_category_add[(df_category_add['target'] > df_category_add['target'].quantile(0.25)) & (df_category_add['target'] < df_category_add['target'].quantile(0.9))]\n",
    "        df_category = pd.concat([df_category,pd.DataFrame({'timestamp' : [f\"{year}-{month}-01\"] , 'target' : [df_category_add['target'].median()] , 'size': [df_category_add.shape[0]] })])\n",
    "        # определяем две новые категории эконом и бизнес\n",
    "        df_cat_econom_add = df_category_add[df_category_add['target'] < df_category_add['target'].median()].copy()\n",
    "        df_cat_bisnes_add = df_category_add[df_category_add['target'] > df_category_add['target'].median()].copy()\n",
    "        # Добавляем данный месяц в итоговые датасеты эконом и бизнес\n",
    "        df_cat_econom = pd.concat([df_cat_econom,pd.DataFrame({'timestamp' : [f\"{year}-{month}-01\"] , 'target' : [df_cat_econom_add['target'].median()], 'size': [df_cat_econom_add.shape[0]]})])\n",
    "        df_cat_bisnes = pd.concat([df_cat_bisnes,pd.DataFrame({'timestamp' : [f\"{year}-{month}-01\"] , 'target' : [df_cat_bisnes_add['target'].median()], 'size': [df_cat_bisnes_add.shape[0]]})])"
   ]
  },
  {
   "cell_type": "code",
   "execution_count": 302,
   "metadata": {},
   "outputs": [],
   "source": [
    "df_cat_econom.reset_index(drop = True, inplace = True)\n"
   ]
  },
  {
   "cell_type": "code",
   "execution_count": 303,
   "metadata": {},
   "outputs": [],
   "source": [
    "df_cat_bisnes.reset_index(drop = True, inplace = True)"
   ]
  },
  {
   "cell_type": "code",
   "execution_count": 304,
   "metadata": {},
   "outputs": [],
   "source": [
    "df_category.reset_index(drop = True, inplace = True)"
   ]
  },
  {
   "cell_type": "code",
   "execution_count": 305,
   "metadata": {},
   "outputs": [],
   "source": [
    "df_category.drop('size', axis=1, inplace = True)\n",
    "df_category.to_csv(\"../data/serial_category/seria_test.csv\")"
   ]
  },
  {
   "cell_type": "code",
   "execution_count": null,
   "metadata": {},
   "outputs": [],
   "source": []
  }
 ],
 "metadata": {
  "kernelspec": {
   "display_name": "Python 3 (ipykernel)",
   "language": "python",
   "name": "python3"
  },
  "language_info": {
   "codemirror_mode": {
    "name": "ipython",
    "version": 3
   },
   "file_extension": ".py",
   "mimetype": "text/x-python",
   "name": "python",
   "nbconvert_exporter": "python",
   "pygments_lexer": "ipython3",
   "version": "3.11.2"
  }
 },
 "nbformat": 4,
 "nbformat_minor": 4
}
